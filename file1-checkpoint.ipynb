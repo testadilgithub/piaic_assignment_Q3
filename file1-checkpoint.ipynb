{
 "cells": [
  {
   "cell_type": "markdown",
   "id": "c2545d06",
   "metadata": {},
   "source": [
    "# Name: Muhammad Adil    Roll No: PIAIC176211    Batch: 36"
   ]
  },
  {
   "cell_type": "code",
   "execution_count": 1,
   "id": "9aae4875",
   "metadata": {},
   "outputs": [
    {
     "name": "stdout",
     "output_type": "stream",
     "text": [
      "adil\n",
      "imran\n",
      "karan\n",
      "liaqut\n"
     ]
    }
   ],
   "source": [
    "names= [\"adil\", \"imran\", \"karan\", \"liaqut\"]\n",
    "print(names[0])\n",
    "print(names[1])\n",
    "print(names[2])\n",
    "print(names[3])"
   ]
  },
  {
   "cell_type": "code",
   "execution_count": 2,
   "id": "bc7af086",
   "metadata": {},
   "outputs": [
    {
     "name": "stdout",
     "output_type": "stream",
     "text": [
      "enter your faurite number 7\n",
      "your faurite num is 7\n"
     ]
    }
   ],
   "source": [
    "faurite_num = int(input(\"enter your faurite number \"))\n",
    "print(\"your faurite num is\", faurite_num)"
   ]
  },
  {
   "cell_type": "code",
   "execution_count": 3,
   "id": "de695541",
   "metadata": {},
   "outputs": [
    {
     "name": "stdout",
     "output_type": "stream",
     "text": [
      "Enter radius of a circle 4.7\n",
      "Area of a circle with  radius  4.7  is  69.36260000000001\n"
     ]
    }
   ],
   "source": [
    "r = float(input(\"Enter radius of a circle \"))\n",
    "pi = 3.14\n",
    "Area_of_circle = (pi * (r*r))\n",
    "print(\"Area of a circle with  radius \" , r,  \" is \" , Area_of_circle, )"
   ]
  },
  {
   "cell_type": "code",
   "execution_count": 4,
   "id": "0ec48147",
   "metadata": {},
   "outputs": [
    {
     "name": "stdout",
     "output_type": "stream",
     "text": [
      "enter a height in cm = 67\n",
      "enter a weight in kg = 60\n",
      "your BMI is =  133.66005791935842\n"
     ]
    }
   ],
   "source": [
    "height = float(input(\"enter a height in cm = \"))\n",
    "weight = float (input(\"enter a weight in kg = \"))\n",
    "BMI = weight/(height/100)**2\n",
    "print( \"your BMI is = \",  BMI )"
   ]
  },
  {
   "cell_type": "code",
   "execution_count": 5,
   "id": "ce4215f4",
   "metadata": {},
   "outputs": [
    {
     "name": "stdout",
     "output_type": "stream",
     "text": [
      "Enter a number 6\n",
      "6 is a positive number \n"
     ]
    }
   ],
   "source": [
    "num = int(input(\"Enter a number \"))\n",
    "if num > 0:\n",
    "    print(num, \"is a positive number \")\n",
    "elif num < 0:\n",
    "    print(num, \"is a negative number \")\n",
    "else:\n",
    "    print(num, \" zero\")\n",
    "    "
   ]
  },
  {
   "cell_type": "code",
   "execution_count": 6,
   "id": "088bd090",
   "metadata": {},
   "outputs": [
    {
     "name": "stdout",
     "output_type": "stream",
     "text": [
      "FIRST LIST\n",
      "\n",
      "my faurite food is =  biryani \n",
      "\n",
      "my faurite food is =  rice \n",
      "\n",
      "my faurite food is =  fruit chat \n",
      "\n",
      "my faurite food is =  honey burger \n",
      "\n",
      "my faurite food is =  kabab \n",
      "\n",
      "my faurite food is =  karahi \n",
      "\n",
      "SECOND LIST\n",
      "\n",
      "my friend,s faurite food is =  shami kabab \n",
      "\n",
      "my friend,s faurite food is =  palow \n",
      "\n",
      "my friend,s faurite food is =  omlet \n",
      "\n",
      "my friend,s faurite food is =  soop \n",
      "\n",
      "my friend,s faurite food is =  tikka \n",
      "\n"
     ]
    }
   ],
   "source": [
    "foods = [\"biryani\", \"rice\", \"fruit chat\", \"honey burger\", \"kabab\" ]\n",
    "freinds = [\"shami kabab\", \"palow\", \"omlet\", \"soop\"]\n",
    "foods.append(\"karahi\")\n",
    "freinds.append(\"tikka\")\n",
    "print(\"FIRST LIST\" + \"\\n\")\n",
    "for food in foods:\n",
    "    print(\"my faurite food is = \" , food , \"\\n\"   )\n",
    "    \n",
    "print(\"SECOND LIST\" + \"\\n\")\n",
    "for freind in freinds:\n",
    "    print(\"my friend,s faurite food is = \" , freind , \"\\n\" )"
   ]
  },
  {
   "cell_type": "code",
   "execution_count": null,
   "id": "6ee1be49",
   "metadata": {},
   "outputs": [],
   "source": []
  }
 ],
 "metadata": {
  "kernelspec": {
   "display_name": "Python 3 (ipykernel)",
   "language": "python",
   "name": "python3"
  },
  "language_info": {
   "codemirror_mode": {
    "name": "ipython",
    "version": 3
   },
   "file_extension": ".py",
   "mimetype": "text/x-python",
   "name": "python",
   "nbconvert_exporter": "python",
   "pygments_lexer": "ipython3",
   "version": "3.9.12"
  }
 },
 "nbformat": 4,
 "nbformat_minor": 5
}
